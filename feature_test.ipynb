{
 "cells": [
  {
   "cell_type": "code",
   "execution_count": 1,
   "metadata": {},
   "outputs": [],
   "source": [
    "import numpy as np\n",
    "import pandas as pd\n",
    "from pandas import read_csv\n",
    "from sklearn.model_selection import train_test_split\n",
    "from sklearn.preprocessing import StandardScaler\n",
    "from sklearn.feature_selection import SelectKBest, f_classif"
   ]
  },
  {
   "cell_type": "code",
   "execution_count": 3,
   "metadata": {},
   "outputs": [],
   "source": [
    "dataset = read_csv('dados_sp.txt')"
   ]
  },
  {
   "cell_type": "code",
   "execution_count": 4,
   "metadata": {},
   "outputs": [],
   "source": [
    "def normalize_dataset (dataset):\n",
    "    \"\"\"\"\n",
    "    Function responsible for normalizing the dataset\n",
    "    \n",
    "    It receives a pandas dataframe, and, for each row where the column 'Hora' is 1200,\n",
    "    it takes the 'Precipitacao' and 'TempMinima' columns and puts its values on the\n",
    "    row above, for it does not have such values (NaN value).\n",
    "    \"\"\"\n",
    "    for index, row in dataset.iterrows():\n",
    "        if row.loc['Hora'] == 1200:\n",
    "            precipitacao = row.loc['Precipitacao']\n",
    "            temp_minima = row.loc['TempMinima']\n",
    "\n",
    "            dataset.at[index - 1, 'Precipitacao'] = precipitacao\n",
    "            dataset.at[index - 1, 'TempMinima'] = temp_minima"
   ]
  },
  {
   "cell_type": "code",
   "execution_count": 5,
   "metadata": {},
   "outputs": [],
   "source": [
    "# Removing unwanted columns\n",
    "dataset.drop(['Estacao'], axis=1, inplace=True)\n",
    "dataset.drop(['Data'], axis=1, inplace=True)\n",
    "\n",
    "normalize_dataset(dataset)\n",
    "\n",
    "# Removing row with Hora == 0000 and then removing the Hora column\n",
    "dataset = dataset[dataset.Hora != 1200]\n",
    "dataset.drop(['Hora'], axis=1, inplace=True)\n",
    "\n",
    "# Removing row with any occurance of NaN\n",
    "dataset.dropna(how='any', inplace=True)"
   ]
  },
  {
   "cell_type": "code",
   "execution_count": 6,
   "metadata": {},
   "outputs": [],
   "source": [
    "# Copying the Precipitacao column and encoding it to 0 or 1, where 0 is = 0, and 1 is > 0\n",
    "precipitation = dataset[['Precipitacao']].copy()\n",
    "precipitation = (precipitation[['Precipitacao']] > 0)*1\n",
    "\n",
    "# Removing the Precipitacao column\n",
    "dataset.drop(['Precipitacao'], axis=1, inplace=True)"
   ]
  },
  {
   "cell_type": "code",
   "execution_count": 7,
   "metadata": {},
   "outputs": [
    {
     "data": {
      "text/html": [
       "<div>\n",
       "<style scoped>\n",
       "    .dataframe tbody tr th:only-of-type {\n",
       "        vertical-align: middle;\n",
       "    }\n",
       "\n",
       "    .dataframe tbody tr th {\n",
       "        vertical-align: top;\n",
       "    }\n",
       "\n",
       "    .dataframe thead th {\n",
       "        text-align: right;\n",
       "    }\n",
       "</style>\n",
       "<table border=\"1\" class=\"dataframe\">\n",
       "  <thead>\n",
       "    <tr style=\"text-align: right;\">\n",
       "      <th></th>\n",
       "      <th>TempMaxima</th>\n",
       "      <th>TempMinima</th>\n",
       "      <th>Insolacao</th>\n",
       "      <th>Evaporacao_Piche</th>\n",
       "      <th>Temp_Comp_Media</th>\n",
       "      <th>Umidade_Relativa_Media</th>\n",
       "      <th>Velocidade_Vento_Media</th>\n",
       "    </tr>\n",
       "  </thead>\n",
       "  <tbody>\n",
       "    <tr>\n",
       "      <th>0</th>\n",
       "      <td>24.9</td>\n",
       "      <td>18.5</td>\n",
       "      <td>2.1</td>\n",
       "      <td>1.2</td>\n",
       "      <td>21.22</td>\n",
       "      <td>89.0</td>\n",
       "      <td>5.000000</td>\n",
       "    </tr>\n",
       "    <tr>\n",
       "      <th>2</th>\n",
       "      <td>22.7</td>\n",
       "      <td>19.7</td>\n",
       "      <td>0.1</td>\n",
       "      <td>2.4</td>\n",
       "      <td>20.84</td>\n",
       "      <td>96.5</td>\n",
       "      <td>3.366667</td>\n",
       "    </tr>\n",
       "    <tr>\n",
       "      <th>4</th>\n",
       "      <td>28.5</td>\n",
       "      <td>17.8</td>\n",
       "      <td>9.5</td>\n",
       "      <td>0.7</td>\n",
       "      <td>21.70</td>\n",
       "      <td>79.0</td>\n",
       "      <td>3.100000</td>\n",
       "    </tr>\n",
       "    <tr>\n",
       "      <th>6</th>\n",
       "      <td>27.2</td>\n",
       "      <td>18.7</td>\n",
       "      <td>3.7</td>\n",
       "      <td>2.7</td>\n",
       "      <td>21.72</td>\n",
       "      <td>88.5</td>\n",
       "      <td>3.600000</td>\n",
       "    </tr>\n",
       "    <tr>\n",
       "      <th>8</th>\n",
       "      <td>25.8</td>\n",
       "      <td>18.0</td>\n",
       "      <td>3.6</td>\n",
       "      <td>1.3</td>\n",
       "      <td>21.30</td>\n",
       "      <td>86.0</td>\n",
       "      <td>4.800000</td>\n",
       "    </tr>\n",
       "  </tbody>\n",
       "</table>\n",
       "</div>"
      ],
      "text/plain": [
       "   TempMaxima  TempMinima  Insolacao  Evaporacao_Piche  Temp_Comp_Media  \\\n",
       "0        24.9        18.5        2.1               1.2            21.22   \n",
       "2        22.7        19.7        0.1               2.4            20.84   \n",
       "4        28.5        17.8        9.5               0.7            21.70   \n",
       "6        27.2        18.7        3.7               2.7            21.72   \n",
       "8        25.8        18.0        3.6               1.3            21.30   \n",
       "\n",
       "   Umidade_Relativa_Media  Velocidade_Vento_Media  \n",
       "0                    89.0                5.000000  \n",
       "2                    96.5                3.366667  \n",
       "4                    79.0                3.100000  \n",
       "6                    88.5                3.600000  \n",
       "8                    86.0                4.800000  "
      ]
     },
     "execution_count": 7,
     "metadata": {},
     "output_type": "execute_result"
    }
   ],
   "source": [
    "dataset.head()"
   ]
  },
  {
   "cell_type": "code",
   "execution_count": 8,
   "metadata": {},
   "outputs": [],
   "source": [
    "# Copying the values to a matrix\n",
    "data = dataset.iloc[:, range(len(dataset.columns))].values\n",
    "\n",
    "# Transforming the classes in an array\n",
    "classes = precipitation[['Precipitacao']].values\n",
    "classes = np.squeeze(np.asarray(classes))"
   ]
  },
  {
   "cell_type": "code",
   "execution_count": 9,
   "metadata": {},
   "outputs": [],
   "source": [
    "# Dividing the dataset into train e test\n",
    "x_train, x_test, y_train, y_test = train_test_split(data, classes, test_size=0.3, stratify = classes, random_state=0)"
   ]
  },
  {
   "cell_type": "code",
   "execution_count": 10,
   "metadata": {},
   "outputs": [],
   "source": [
    "features = SelectKBest(f_classif, 'all')"
   ]
  },
  {
   "cell_type": "code",
   "execution_count": 11,
   "metadata": {},
   "outputs": [],
   "source": [
    "sc = StandardScaler()\n",
    "x_train = sc.fit_transform(x_train)"
   ]
  },
  {
   "cell_type": "code",
   "execution_count": 12,
   "metadata": {
    "collapsed": true
   },
   "outputs": [
    {
     "data": {
      "text/plain": [
       "SelectKBest(k='all', score_func=<function f_classif at 0x7f9fad153ae8>)"
      ]
     },
     "execution_count": 12,
     "metadata": {},
     "output_type": "execute_result"
    }
   ],
   "source": [
    "# Fitting to check wich variables are important to our problem\n",
    "features.fit(x_train, y_train)"
   ]
  },
  {
   "cell_type": "code",
   "execution_count": 13,
   "metadata": {},
   "outputs": [
    {
     "data": {
      "text/plain": [
       "array([ 372.63154036,  358.37627673, 1880.79987893,  870.13924458,\n",
       "          2.47296491, 2001.22702892,   54.826031  ])"
      ]
     },
     "execution_count": 13,
     "metadata": {},
     "output_type": "execute_result"
    }
   ],
   "source": [
    "# Checking the results\n",
    "features.scores_"
   ]
  }
 ],
 "metadata": {
  "kernelspec": {
   "display_name": "Python 3",
   "language": "python",
   "name": "python3"
  },
  "language_info": {
   "codemirror_mode": {
    "name": "ipython",
    "version": 3
   },
   "file_extension": ".py",
   "mimetype": "text/x-python",
   "name": "python",
   "nbconvert_exporter": "python",
   "pygments_lexer": "ipython3",
   "version": "3.6.8"
  }
 },
 "nbformat": 4,
 "nbformat_minor": 2
}
