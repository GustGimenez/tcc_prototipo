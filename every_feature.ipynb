{
 "cells": [
  {
   "cell_type": "code",
   "execution_count": 1,
   "metadata": {},
   "outputs": [],
   "source": [
    "import numpy as np\n",
    "import pandas as pd\n",
    "from pandas import read_csv\n",
    "from sklearn import svm\n",
    "from sklearn.model_selection import train_test_split\n",
    "from sklearn.preprocessing import StandardScaler\n",
    "from sklearn.model_selection import cross_val_score\n",
    "from sklearn.model_selection import cross_val_predict\n",
    "from sklearn.metrics import confusion_matrix\n",
    "from sklearn.metrics import precision_score, recall_score, f1_score"
   ]
  },
  {
   "cell_type": "code",
   "execution_count": 2,
   "metadata": {},
   "outputs": [],
   "source": [
    "dataset = read_csv('dados_sp.txt')"
   ]
  },
  {
   "cell_type": "code",
   "execution_count": 3,
   "metadata": {},
   "outputs": [],
   "source": [
    "def normalize_dataset (dataset):\n",
    "    \"\"\"\"\n",
    "    Function responsible for normalizing the dataset\n",
    "    \n",
    "    It receives a pandas dataframe, and, for each row where the column 'Hora' is 1200,\n",
    "    it takes the 'Precipitacao' and 'TempMinima' columns and puts its values on the\n",
    "    row above, for it does not have such values (NaN value).\n",
    "    \"\"\"\n",
    "    for index, row in dataset.iterrows():\n",
    "        if row.loc['Hora'] == 1200:\n",
    "            precipitacao = row.loc['Precipitacao']\n",
    "            temp_minima = row.loc['TempMinima']\n",
    "\n",
    "            dataset.at[index - 1, 'Precipitacao'] = precipitacao\n",
    "            dataset.at[index - 1, 'TempMinima'] = temp_minima"
   ]
  },
  {
   "cell_type": "code",
   "execution_count": 4,
   "metadata": {},
   "outputs": [],
   "source": [
    "# Removing unwanted columns\n",
    "dataset.drop(['Estacao'], axis=1, inplace=True)\n",
    "dataset.drop(['Data'], axis=1, inplace=True)\n",
    "\n",
    "normalize_dataset(dataset)\n",
    "\n",
    "# Removing row with Hora == 0000 and then removing the Hora column\n",
    "dataset = dataset[dataset.Hora != 1200]\n",
    "dataset.drop(['Hora'], axis=1, inplace=True)\n",
    "\n",
    "# Removing row with any occurance of NaN\n",
    "dataset.dropna(how='any', inplace=True)"
   ]
  },
  {
   "cell_type": "code",
   "execution_count": 6,
   "metadata": {},
   "outputs": [
    {
     "data": {
      "text/html": [
       "<div>\n",
       "<style scoped>\n",
       "    .dataframe tbody tr th:only-of-type {\n",
       "        vertical-align: middle;\n",
       "    }\n",
       "\n",
       "    .dataframe tbody tr th {\n",
       "        vertical-align: top;\n",
       "    }\n",
       "\n",
       "    .dataframe thead th {\n",
       "        text-align: right;\n",
       "    }\n",
       "</style>\n",
       "<table border=\"1\" class=\"dataframe\">\n",
       "  <thead>\n",
       "    <tr style=\"text-align: right;\">\n",
       "      <th></th>\n",
       "      <th>Precipitacao</th>\n",
       "    </tr>\n",
       "  </thead>\n",
       "  <tbody>\n",
       "    <tr>\n",
       "      <th>0</th>\n",
       "      <td>0</td>\n",
       "    </tr>\n",
       "    <tr>\n",
       "      <th>2</th>\n",
       "      <td>1</td>\n",
       "    </tr>\n",
       "    <tr>\n",
       "      <th>4</th>\n",
       "      <td>1</td>\n",
       "    </tr>\n",
       "    <tr>\n",
       "      <th>6</th>\n",
       "      <td>0</td>\n",
       "    </tr>\n",
       "    <tr>\n",
       "      <th>8</th>\n",
       "      <td>1</td>\n",
       "    </tr>\n",
       "  </tbody>\n",
       "</table>\n",
       "</div>"
      ],
      "text/plain": [
       "   Precipitacao\n",
       "0             0\n",
       "2             1\n",
       "4             1\n",
       "6             0\n",
       "8             1"
      ]
     },
     "execution_count": 6,
     "metadata": {},
     "output_type": "execute_result"
    }
   ],
   "source": [
    "# Copying the Precipitacao column and encoding it to 0 or 1, where 0 is = 0, and 1 is > 0\n",
    "precipitation = dataset[['Precipitacao']].copy()\n",
    "precipitation = (precipitation[['Precipitacao']] > 0)*1\n",
    "\n",
    "# Removing the Precipitacao column\n",
    "# dataset.drop(['Precipitacao'], axis=1, inplace=True)\n",
    "\n",
    "\n",
    "precipitation.head()"
   ]
  },
  {
   "cell_type": "code",
   "execution_count": 15,
   "metadata": {},
   "outputs": [
    {
     "data": {
      "text/html": [
       "<div>\n",
       "<style scoped>\n",
       "    .dataframe tbody tr th:only-of-type {\n",
       "        vertical-align: middle;\n",
       "    }\n",
       "\n",
       "    .dataframe tbody tr th {\n",
       "        vertical-align: top;\n",
       "    }\n",
       "\n",
       "    .dataframe thead th {\n",
       "        text-align: right;\n",
       "    }\n",
       "</style>\n",
       "<table border=\"1\" class=\"dataframe\">\n",
       "  <thead>\n",
       "    <tr style=\"text-align: right;\">\n",
       "      <th></th>\n",
       "      <th>Precipitacao</th>\n",
       "      <th>TempMaxima</th>\n",
       "      <th>TempMinima</th>\n",
       "      <th>Insolacao</th>\n",
       "      <th>Evaporacao_Piche</th>\n",
       "      <th>Temp_Comp_Media</th>\n",
       "      <th>Umidade_Relativa_Media</th>\n",
       "      <th>Velocidade_Vento_Media</th>\n",
       "    </tr>\n",
       "  </thead>\n",
       "  <tbody>\n",
       "    <tr>\n",
       "      <th>0</th>\n",
       "      <td>0.0</td>\n",
       "      <td>24.9</td>\n",
       "      <td>18.5</td>\n",
       "      <td>2.1</td>\n",
       "      <td>1.2</td>\n",
       "      <td>21.22</td>\n",
       "      <td>89.0</td>\n",
       "      <td>5.000000</td>\n",
       "    </tr>\n",
       "    <tr>\n",
       "      <th>2</th>\n",
       "      <td>5.0</td>\n",
       "      <td>22.7</td>\n",
       "      <td>19.7</td>\n",
       "      <td>0.1</td>\n",
       "      <td>2.4</td>\n",
       "      <td>20.84</td>\n",
       "      <td>96.5</td>\n",
       "      <td>3.366667</td>\n",
       "    </tr>\n",
       "    <tr>\n",
       "      <th>4</th>\n",
       "      <td>44.9</td>\n",
       "      <td>28.5</td>\n",
       "      <td>17.8</td>\n",
       "      <td>9.5</td>\n",
       "      <td>0.7</td>\n",
       "      <td>21.70</td>\n",
       "      <td>79.0</td>\n",
       "      <td>3.100000</td>\n",
       "    </tr>\n",
       "    <tr>\n",
       "      <th>6</th>\n",
       "      <td>0.0</td>\n",
       "      <td>27.2</td>\n",
       "      <td>18.7</td>\n",
       "      <td>3.7</td>\n",
       "      <td>2.7</td>\n",
       "      <td>21.72</td>\n",
       "      <td>88.5</td>\n",
       "      <td>3.600000</td>\n",
       "    </tr>\n",
       "    <tr>\n",
       "      <th>8</th>\n",
       "      <td>7.5</td>\n",
       "      <td>25.8</td>\n",
       "      <td>18.0</td>\n",
       "      <td>3.6</td>\n",
       "      <td>1.3</td>\n",
       "      <td>21.30</td>\n",
       "      <td>86.0</td>\n",
       "      <td>4.800000</td>\n",
       "    </tr>\n",
       "  </tbody>\n",
       "</table>\n",
       "</div>"
      ],
      "text/plain": [
       "   Precipitacao  TempMaxima  TempMinima  Insolacao  Evaporacao_Piche  \\\n",
       "0           0.0        24.9        18.5        2.1               1.2   \n",
       "2           5.0        22.7        19.7        0.1               2.4   \n",
       "4          44.9        28.5        17.8        9.5               0.7   \n",
       "6           0.0        27.2        18.7        3.7               2.7   \n",
       "8           7.5        25.8        18.0        3.6               1.3   \n",
       "\n",
       "   Temp_Comp_Media  Umidade_Relativa_Media  Velocidade_Vento_Media  \n",
       "0            21.22                    89.0                5.000000  \n",
       "2            20.84                    96.5                3.366667  \n",
       "4            21.70                    79.0                3.100000  \n",
       "6            21.72                    88.5                3.600000  \n",
       "8            21.30                    86.0                4.800000  "
      ]
     },
     "execution_count": 15,
     "metadata": {},
     "output_type": "execute_result"
    }
   ],
   "source": [
    "dataset.head()"
   ]
  },
  {
   "cell_type": "code",
   "execution_count": 14,
   "metadata": {
    "scrolled": true
   },
   "outputs": [
    {
     "data": {
      "text/html": [
       "<div>\n",
       "<style scoped>\n",
       "    .dataframe tbody tr th:only-of-type {\n",
       "        vertical-align: middle;\n",
       "    }\n",
       "\n",
       "    .dataframe tbody tr th {\n",
       "        vertical-align: top;\n",
       "    }\n",
       "\n",
       "    .dataframe thead th {\n",
       "        text-align: right;\n",
       "    }\n",
       "</style>\n",
       "<table border=\"1\" class=\"dataframe\">\n",
       "  <thead>\n",
       "    <tr style=\"text-align: right;\">\n",
       "      <th></th>\n",
       "      <th>Precipitacao</th>\n",
       "      <th>TempMaxima</th>\n",
       "      <th>TempMinima</th>\n",
       "      <th>Insolacao</th>\n",
       "      <th>Evaporacao_Piche</th>\n",
       "      <th>Temp_Comp_Media</th>\n",
       "      <th>Umidade_Relativa_Media</th>\n",
       "      <th>Velocidade_Vento_Media</th>\n",
       "    </tr>\n",
       "  </thead>\n",
       "  <tbody>\n",
       "    <tr>\n",
       "      <th>Precipitacao</th>\n",
       "      <td>1.000000</td>\n",
       "      <td>-0.058910</td>\n",
       "      <td>0.163763</td>\n",
       "      <td>-0.245826</td>\n",
       "      <td>-0.179585</td>\n",
       "      <td>0.058292</td>\n",
       "      <td>0.252975</td>\n",
       "      <td>-0.022574</td>\n",
       "    </tr>\n",
       "    <tr>\n",
       "      <th>TempMaxima</th>\n",
       "      <td>-0.058910</td>\n",
       "      <td>1.000000</td>\n",
       "      <td>0.648886</td>\n",
       "      <td>0.532931</td>\n",
       "      <td>0.375821</td>\n",
       "      <td>0.902376</td>\n",
       "      <td>-0.516330</td>\n",
       "      <td>-0.186741</td>\n",
       "    </tr>\n",
       "    <tr>\n",
       "      <th>TempMinima</th>\n",
       "      <td>0.163763</td>\n",
       "      <td>0.648886</td>\n",
       "      <td>1.000000</td>\n",
       "      <td>-0.048081</td>\n",
       "      <td>0.232893</td>\n",
       "      <td>0.877516</td>\n",
       "      <td>-0.016904</td>\n",
       "      <td>0.002533</td>\n",
       "    </tr>\n",
       "    <tr>\n",
       "      <th>Insolacao</th>\n",
       "      <td>-0.245826</td>\n",
       "      <td>0.532931</td>\n",
       "      <td>-0.048081</td>\n",
       "      <td>1.000000</td>\n",
       "      <td>0.206977</td>\n",
       "      <td>0.294775</td>\n",
       "      <td>-0.653250</td>\n",
       "      <td>-0.101266</td>\n",
       "    </tr>\n",
       "    <tr>\n",
       "      <th>Evaporacao_Piche</th>\n",
       "      <td>-0.179585</td>\n",
       "      <td>0.375821</td>\n",
       "      <td>0.232893</td>\n",
       "      <td>0.206977</td>\n",
       "      <td>1.000000</td>\n",
       "      <td>0.335118</td>\n",
       "      <td>-0.443516</td>\n",
       "      <td>0.003051</td>\n",
       "    </tr>\n",
       "    <tr>\n",
       "      <th>Temp_Comp_Media</th>\n",
       "      <td>0.058292</td>\n",
       "      <td>0.902376</td>\n",
       "      <td>0.877516</td>\n",
       "      <td>0.294775</td>\n",
       "      <td>0.335118</td>\n",
       "      <td>1.000000</td>\n",
       "      <td>-0.370631</td>\n",
       "      <td>-0.117082</td>\n",
       "    </tr>\n",
       "    <tr>\n",
       "      <th>Umidade_Relativa_Media</th>\n",
       "      <td>0.252975</td>\n",
       "      <td>-0.516330</td>\n",
       "      <td>-0.016904</td>\n",
       "      <td>-0.653250</td>\n",
       "      <td>-0.443516</td>\n",
       "      <td>-0.370631</td>\n",
       "      <td>1.000000</td>\n",
       "      <td>0.077043</td>\n",
       "    </tr>\n",
       "    <tr>\n",
       "      <th>Velocidade_Vento_Media</th>\n",
       "      <td>-0.022574</td>\n",
       "      <td>-0.186741</td>\n",
       "      <td>0.002533</td>\n",
       "      <td>-0.101266</td>\n",
       "      <td>0.003051</td>\n",
       "      <td>-0.117082</td>\n",
       "      <td>0.077043</td>\n",
       "      <td>1.000000</td>\n",
       "    </tr>\n",
       "  </tbody>\n",
       "</table>\n",
       "</div>"
      ],
      "text/plain": [
       "                        Precipitacao  TempMaxima  TempMinima  Insolacao  \\\n",
       "Precipitacao                1.000000   -0.058910    0.163763  -0.245826   \n",
       "TempMaxima                 -0.058910    1.000000    0.648886   0.532931   \n",
       "TempMinima                  0.163763    0.648886    1.000000  -0.048081   \n",
       "Insolacao                  -0.245826    0.532931   -0.048081   1.000000   \n",
       "Evaporacao_Piche           -0.179585    0.375821    0.232893   0.206977   \n",
       "Temp_Comp_Media             0.058292    0.902376    0.877516   0.294775   \n",
       "Umidade_Relativa_Media      0.252975   -0.516330   -0.016904  -0.653250   \n",
       "Velocidade_Vento_Media     -0.022574   -0.186741    0.002533  -0.101266   \n",
       "\n",
       "                        Evaporacao_Piche  Temp_Comp_Media  \\\n",
       "Precipitacao                   -0.179585         0.058292   \n",
       "TempMaxima                      0.375821         0.902376   \n",
       "TempMinima                      0.232893         0.877516   \n",
       "Insolacao                       0.206977         0.294775   \n",
       "Evaporacao_Piche                1.000000         0.335118   \n",
       "Temp_Comp_Media                 0.335118         1.000000   \n",
       "Umidade_Relativa_Media         -0.443516        -0.370631   \n",
       "Velocidade_Vento_Media          0.003051        -0.117082   \n",
       "\n",
       "                        Umidade_Relativa_Media  Velocidade_Vento_Media  \n",
       "Precipitacao                          0.252975               -0.022574  \n",
       "TempMaxima                           -0.516330               -0.186741  \n",
       "TempMinima                           -0.016904                0.002533  \n",
       "Insolacao                            -0.653250               -0.101266  \n",
       "Evaporacao_Piche                     -0.443516                0.003051  \n",
       "Temp_Comp_Media                      -0.370631               -0.117082  \n",
       "Umidade_Relativa_Media                1.000000                0.077043  \n",
       "Velocidade_Vento_Media                0.077043                1.000000  "
      ]
     },
     "execution_count": 14,
     "metadata": {},
     "output_type": "execute_result"
    }
   ],
   "source": [
    "dataset.corr(['Estacao'], axis=1, inplace=True)"
   ]
  },
  {
   "cell_type": "code",
   "execution_count": 7,
   "metadata": {},
   "outputs": [],
   "source": [
    "dataset.drop(['Precipitacao'], axis=1, inplace=True)"
   ]
  },
  {
   "cell_type": "code",
   "execution_count": 8,
   "metadata": {},
   "outputs": [
    {
     "data": {
      "text/html": [
       "<div>\n",
       "<style scoped>\n",
       "    .dataframe tbody tr th:only-of-type {\n",
       "        vertical-align: middle;\n",
       "    }\n",
       "\n",
       "    .dataframe tbody tr th {\n",
       "        vertical-align: top;\n",
       "    }\n",
       "\n",
       "    .dataframe thead th {\n",
       "        text-align: right;\n",
       "    }\n",
       "</style>\n",
       "<table border=\"1\" class=\"dataframe\">\n",
       "  <thead>\n",
       "    <tr style=\"text-align: right;\">\n",
       "      <th></th>\n",
       "      <th>TempMaxima</th>\n",
       "      <th>TempMinima</th>\n",
       "      <th>Insolacao</th>\n",
       "      <th>Evaporacao_Piche</th>\n",
       "      <th>Temp_Comp_Media</th>\n",
       "      <th>Umidade_Relativa_Media</th>\n",
       "      <th>Velocidade_Vento_Media</th>\n",
       "      <th>Precipitacao</th>\n",
       "    </tr>\n",
       "  </thead>\n",
       "  <tbody>\n",
       "    <tr>\n",
       "      <th>0</th>\n",
       "      <td>24.9</td>\n",
       "      <td>18.5</td>\n",
       "      <td>2.1</td>\n",
       "      <td>1.2</td>\n",
       "      <td>21.22</td>\n",
       "      <td>89.0</td>\n",
       "      <td>5.000000</td>\n",
       "      <td>0</td>\n",
       "    </tr>\n",
       "    <tr>\n",
       "      <th>2</th>\n",
       "      <td>22.7</td>\n",
       "      <td>19.7</td>\n",
       "      <td>0.1</td>\n",
       "      <td>2.4</td>\n",
       "      <td>20.84</td>\n",
       "      <td>96.5</td>\n",
       "      <td>3.366667</td>\n",
       "      <td>1</td>\n",
       "    </tr>\n",
       "    <tr>\n",
       "      <th>4</th>\n",
       "      <td>28.5</td>\n",
       "      <td>17.8</td>\n",
       "      <td>9.5</td>\n",
       "      <td>0.7</td>\n",
       "      <td>21.70</td>\n",
       "      <td>79.0</td>\n",
       "      <td>3.100000</td>\n",
       "      <td>1</td>\n",
       "    </tr>\n",
       "    <tr>\n",
       "      <th>6</th>\n",
       "      <td>27.2</td>\n",
       "      <td>18.7</td>\n",
       "      <td>3.7</td>\n",
       "      <td>2.7</td>\n",
       "      <td>21.72</td>\n",
       "      <td>88.5</td>\n",
       "      <td>3.600000</td>\n",
       "      <td>0</td>\n",
       "    </tr>\n",
       "    <tr>\n",
       "      <th>8</th>\n",
       "      <td>25.8</td>\n",
       "      <td>18.0</td>\n",
       "      <td>3.6</td>\n",
       "      <td>1.3</td>\n",
       "      <td>21.30</td>\n",
       "      <td>86.0</td>\n",
       "      <td>4.800000</td>\n",
       "      <td>1</td>\n",
       "    </tr>\n",
       "  </tbody>\n",
       "</table>\n",
       "</div>"
      ],
      "text/plain": [
       "   TempMaxima  TempMinima  Insolacao  Evaporacao_Piche  Temp_Comp_Media  \\\n",
       "0        24.9        18.5        2.1               1.2            21.22   \n",
       "2        22.7        19.7        0.1               2.4            20.84   \n",
       "4        28.5        17.8        9.5               0.7            21.70   \n",
       "6        27.2        18.7        3.7               2.7            21.72   \n",
       "8        25.8        18.0        3.6               1.3            21.30   \n",
       "\n",
       "   Umidade_Relativa_Media  Velocidade_Vento_Media  Precipitacao  \n",
       "0                    89.0                5.000000             0  \n",
       "2                    96.5                3.366667             1  \n",
       "4                    79.0                3.100000             1  \n",
       "6                    88.5                3.600000             0  \n",
       "8                    86.0                4.800000             1  "
      ]
     },
     "execution_count": 8,
     "metadata": {},
     "output_type": "execute_result"
    }
   ],
   "source": [
    "dataset = pd.concat((dataset, precipitation), axis=1)\n",
    "\n",
    "dataset.head()"
   ]
  },
  {
   "cell_type": "code",
   "execution_count": 12,
   "metadata": {},
   "outputs": [],
   "source": [
    "dataset.to_csv(path_or_buf='~/Documents/Unesp/TCC/prototipos_notebook/dados.csv')"
   ]
  },
  {
   "cell_type": "code",
   "execution_count": 7,
   "metadata": {},
   "outputs": [],
   "source": [
    "# Copying the values to a matrix\n",
    "data = dataset.iloc[:, range(len(dataset.columns))].values\n",
    "\n",
    "# Transforming the classes in an array\n",
    "classes = precipitation[['Precipitacao']].values\n",
    "classes = np.squeeze(np.asarray(classes))"
   ]
  },
  {
   "cell_type": "code",
   "execution_count": 8,
   "metadata": {},
   "outputs": [],
   "source": [
    "# Dividing the dataset into train e test\n",
    "x_train, x_test, y_train, y_test = train_test_split(data, classes, test_size=0.3, stratify = classes, random_state=0)"
   ]
  },
  {
   "cell_type": "code",
   "execution_count": 9,
   "metadata": {},
   "outputs": [],
   "source": [
    "sc = StandardScaler()\n",
    "x_train = sc.fit_transform(x_train)"
   ]
  },
  {
   "cell_type": "code",
   "execution_count": 10,
   "metadata": {},
   "outputs": [
    {
     "data": {
      "text/plain": [
       "SVC(C=10, cache_size=200, class_weight='balanced', coef0=0.0,\n",
       "    decision_function_shape='ovr', degree=3, gamma='auto', kernel='rbf',\n",
       "    max_iter=-1, probability=False, random_state=None, shrinking=True,\n",
       "    tol=0.001, verbose=False)"
      ]
     },
     "execution_count": 10,
     "metadata": {},
     "output_type": "execute_result"
    }
   ],
   "source": [
    "model = svm.SVC(kernel='rbf', C=10, class_weight='balanced', gamma='auto')\n",
    "model.fit(x_train, y_train)"
   ]
  },
  {
   "cell_type": "code",
   "execution_count": 11,
   "metadata": {},
   "outputs": [
    {
     "name": "stdout",
     "output_type": "stream",
     "text": [
      "Average Accuracy: \t 0.744305\n",
      "Accuracy SD: \t 0.011279\n",
      "Median: \t 0.745761\n"
     ]
    }
   ],
   "source": [
    "# Cross Validation with Train Dataset\n",
    "res = cross_val_score(model, x_train, y_train, cv = 10, scoring = 'accuracy', n_jobs = -1)\n",
    "print('Average Accuracy: \\t {0:4f}'.format(np.mean(res)))\n",
    "print('Accuracy SD: \\t {0:4f}'.format(np.std(res)))\n",
    "print('Median: \\t {0:4f}'. format(np.median(res)))"
   ]
  },
  {
   "cell_type": "code",
   "execution_count": 12,
   "metadata": {},
   "outputs": [],
   "source": [
    "# Prediction for the train dataset\n",
    "y_train_pred = cross_val_predict(model, x_train, y_train, cv = 3)"
   ]
  },
  {
   "cell_type": "code",
   "execution_count": 13,
   "metadata": {},
   "outputs": [
    {
     "data": {
      "text/plain": [
       "array([[4810, 1908],\n",
       "       [ 797, 3107]])"
      ]
     },
     "execution_count": 13,
     "metadata": {},
     "output_type": "execute_result"
    }
   ],
   "source": [
    "# Creating confusion matrix for the train dataset\n",
    "confusion_matrix(y_train, y_train_pred)"
   ]
  },
  {
   "cell_type": "code",
   "execution_count": 14,
   "metadata": {},
   "outputs": [
    {
     "name": "stdout",
     "output_type": "stream",
     "text": [
      "Precision Score: \t 0.770266\n",
      "Recal Score: \t 0.745340\n",
      "f1 Score: \t 0.749723\n"
     ]
    }
   ],
   "source": [
    "print('Precision Score: \\t {0:4f}'.format(precision_score(y_train, y_train_pred, average = 'weighted')))\n",
    "print('Recal Score: \\t {0:4f}'.format(recall_score(y_train, y_train_pred, average = 'weighted')))\n",
    "print('f1 Score: \\t {0:4f}'.format(f1_score(y_train, y_train_pred, average = 'weighted')))"
   ]
  },
  {
   "cell_type": "code",
   "execution_count": 15,
   "metadata": {},
   "outputs": [],
   "source": [
    "# Prediction for the test dataset\n",
    "y_test_pred = cross_val_predict(model, sc.transform(x_test), y_test, cv=3)"
   ]
  },
  {
   "cell_type": "code",
   "execution_count": 16,
   "metadata": {},
   "outputs": [
    {
     "data": {
      "text/plain": [
       "array([[2060,  820],\n",
       "       [ 401, 1272]])"
      ]
     },
     "execution_count": 16,
     "metadata": {},
     "output_type": "execute_result"
    }
   ],
   "source": [
    "# Creating confusion matrix for the test dataset\n",
    "confusion_matrix(y_test, y_test_pred)"
   ]
  },
  {
   "cell_type": "code",
   "execution_count": 17,
   "metadata": {},
   "outputs": [
    {
     "name": "stdout",
     "output_type": "stream",
     "text": [
      "Precision Score: \t 0.752902\n",
      "Recall Score: \t 0.731825\n",
      "f1 Score: \t 0.736228\n"
     ]
    }
   ],
   "source": [
    "print(\"Precision Score: \\t {0:4f}\".format(precision_score(y_test, y_test_pred, average = 'weighted')))\n",
    "print(\"Recall Score: \\t {0:4f}\".format(recall_score(y_test, y_test_pred, average = 'weighted')))\n",
    "print(\"f1 Score: \\t {0:4f}\".format(f1_score(y_test, y_test_pred, average = 'weighted')))"
   ]
  }
 ],
 "metadata": {
  "kernelspec": {
   "display_name": "Python 3",
   "language": "python",
   "name": "python3"
  },
  "language_info": {
   "codemirror_mode": {
    "name": "ipython",
    "version": 3
   },
   "file_extension": ".py",
   "mimetype": "text/x-python",
   "name": "python",
   "nbconvert_exporter": "python",
   "pygments_lexer": "ipython3",
   "version": "3.6.8"
  }
 },
 "nbformat": 4,
 "nbformat_minor": 2
}
